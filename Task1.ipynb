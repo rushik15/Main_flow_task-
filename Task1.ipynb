{
 "cells": [
  {
   "cell_type": "markdown",
   "id": "d6329f51",
   "metadata": {},
   "source": [
    "# Task - 1 Write a Python program to create a list, a dictionary, and a set. Perform basic operations like adding, removing, and modifying elements."
   ]
  },
  {
   "cell_type": "markdown",
   "id": "756cc399",
   "metadata": {},
   "source": [
    "# 1. Lists\n",
    "A list is a mutable, ordered collection of elements."
   ]
  },
  {
   "cell_type": "code",
   "execution_count": 4,
   "id": "982f34ba",
   "metadata": {},
   "outputs": [
    {
     "name": "stdout",
     "output_type": "stream",
     "text": [
      "enrollment_no: 220760107 \n",
      "name: rushik vadadoriya \n",
      "company: mainflow\n"
     ]
    }
   ],
   "source": [
    "ls = [220760107,\"rushik\",\"vadadoriya\",\"mainflow\",56.34]\n",
    "\n",
    "print(\"enrollment_no:\",ls[0],\"\\nname:\",ls[1],ls[2],\"\\ncompany:\",ls[3])"
   ]
  },
  {
   "cell_type": "markdown",
   "id": "24afc4da",
   "metadata": {},
   "source": [
    "## operations on list "
   ]
  },
  {
   "cell_type": "code",
   "execution_count": 18,
   "id": "8605f3f9",
   "metadata": {},
   "outputs": [
    {
     "name": "stdout",
     "output_type": "stream",
     "text": [
      "data: ['rushik', 5000, 'Main_flow']\n",
      "data inserted : ['rushik', 11205, 5000, 'Main_flow', 'rolex', 'A raju']\n",
      "data removed: ['rushik', 11205, 5000, 'Main_flow', 'A raju']\n",
      "data poped : ['rushik', 11205, 5000, 'Main_flow']\n"
     ]
    }
   ],
   "source": [
    "data = []\n",
    "\n",
    "#Add elements:\n",
    "data.append('rushik')\n",
    "data.append(5000)\n",
    "data.append('Main_flow')\n",
    " \n",
    "\n",
    "print(\"data:\",data)\n",
    "\n",
    "#Insert elements:\n",
    "data.insert(1,11205)\n",
    "data.insert(4,'rolex')\n",
    "data.insert(5,\"A raju\")\n",
    "\n",
    "print(\"data inserted :\",data)\n",
    "\n",
    "#Remove elements:\n",
    "data.remove(\"rolex\")\n",
    "\n",
    "print(\"data removed:\",data)\n",
    "\n",
    "data.pop()\n",
    "\n",
    "\n",
    "print(\"data poped :\",data)"
   ]
  },
  {
   "cell_type": "code",
   "execution_count": 34,
   "id": "5595fc3b",
   "metadata": {},
   "outputs": [
    {
     "name": "stdout",
     "output_type": "stream",
     "text": [
      "[11205, 5000, 'Main_flow']\n",
      "list :  [1, 2, 3, 4, 5, 6, 7, 8, 9, 10]\n",
      "sorted list : [1, 2, 3, 4, 5, 6, 7, 8, 9, 10]\n",
      "reverse list : [10, 9, 8, 7, 6, 5, 4, 3, 2, 1]\n"
     ]
    }
   ],
   "source": [
    "#Slicing:\n",
    "print(data[1:4])\n",
    "ls1 = [i for i in range(1,11)]\n",
    "print(\"list : \",ls1)\n",
    "#sorted\n",
    "ls1.sort()\n",
    "print(\"sorted list :\",ls1)\n",
    "\n",
    "\n",
    "ls1.reverse()\n",
    "print(\"reverse list :\",ls1)"
   ]
  },
  {
   "cell_type": "markdown",
   "id": "e50985ea",
   "metadata": {},
   "source": [
    "## 2. Tuples\n",
    "A tuple is an immutable, ordered collection of elements."
   ]
  },
  {
   "cell_type": "code",
   "execution_count": 49,
   "id": "4f1c1f07",
   "metadata": {},
   "outputs": [
    {
     "name": "stdout",
     "output_type": "stream",
     "text": [
      "12\n",
      "tuple: (12, 23, 34, 2, 2, 56, 2, 24, 5, 6)\n",
      "Count occurrences of 2: 3\n"
     ]
    }
   ],
   "source": [
    "tup = (12,23,34,2,2,56,2,24)\n",
    "\n",
    "#Access elements\n",
    "print(tup[0])\n",
    "\n",
    "tup = tup + (5, 6)\n",
    "\n",
    "print(\"tuple:\",tup)\n",
    "\n",
    "print(\"Count occurrences of 2:\",tup.count(2))"
   ]
  },
  {
   "cell_type": "markdown",
   "id": "b5e3eb6d",
   "metadata": {},
   "source": [
    "## 3. Dictionaries\n",
    "A dictionary is an unordered collection of key-value pairs."
   ]
  },
  {
   "cell_type": "code",
   "execution_count": 63,
   "id": "2752a86e",
   "metadata": {},
   "outputs": [],
   "source": [
    "dict = {'name':'rushik vadadoriya',\n",
    "       'en_no':220760107,\n",
    "       'dept':'computer eng.'}"
   ]
  },
  {
   "cell_type": "code",
   "execution_count": 64,
   "id": "888d5228",
   "metadata": {},
   "outputs": [
    {
     "name": "stdout",
     "output_type": "stream",
     "text": [
      "rushik vadadoriya\n"
     ]
    }
   ],
   "source": [
    "print(dict['name'])"
   ]
  },
  {
   "cell_type": "code",
   "execution_count": 65,
   "id": "a3196cd7",
   "metadata": {},
   "outputs": [],
   "source": [
    "dict['age'] = 20\n",
    "dict['collage']='ssasit'"
   ]
  },
  {
   "cell_type": "code",
   "execution_count": 66,
   "id": "0aa0585f",
   "metadata": {},
   "outputs": [
    {
     "name": "stdout",
     "output_type": "stream",
     "text": [
      "name rushik vadadoriya\n",
      "en_no 220760107\n",
      "dept computer eng.\n",
      "age 20\n",
      "collage ssasit\n"
     ]
    }
   ],
   "source": [
    "#Looping through a dictionary:\n",
    "\n",
    "for key, value in dict.items():\n",
    "    print(key, value)\n"
   ]
  },
  {
   "cell_type": "code",
   "execution_count": 67,
   "id": "22003017",
   "metadata": {},
   "outputs": [
    {
     "data": {
      "text/plain": [
       "20"
      ]
     },
     "execution_count": 67,
     "metadata": {},
     "output_type": "execute_result"
    }
   ],
   "source": [
    "#Remove key-value pairs:\n",
    "dict.pop('age')\n"
   ]
  },
  {
   "cell_type": "code",
   "execution_count": 68,
   "id": "e8c7f693",
   "metadata": {},
   "outputs": [
    {
     "name": "stdout",
     "output_type": "stream",
     "text": [
      "{'name': 'rushik vadadoriya', 'en_no': 220760107, 'dept': 'computer eng.', 'collage': 'ssasit'}\n"
     ]
    }
   ],
   "source": [
    "print(dict)"
   ]
  },
  {
   "cell_type": "markdown",
   "id": "ec5c225d",
   "metadata": {},
   "source": [
    "## 4. Sets\n",
    "A set is an unordered collection of unique elements."
   ]
  },
  {
   "cell_type": "code",
   "execution_count": 69,
   "id": "086a30c4",
   "metadata": {},
   "outputs": [
    {
     "name": "stdout",
     "output_type": "stream",
     "text": [
      "{1, 2, 3, 4, 6}\n"
     ]
    }
   ],
   "source": [
    "s1 = {1,2,3,4,6}\n",
    "print(s1)"
   ]
  },
  {
   "cell_type": "code",
   "execution_count": 71,
   "id": "57f96169",
   "metadata": {},
   "outputs": [
    {
     "name": "stdout",
     "output_type": "stream",
     "text": [
      "added set: {1, 2, 3, 4, 6, 55}\n",
      "removed set: {1, 3, 4, 6, 55}\n"
     ]
    }
   ],
   "source": [
    "s1.add(55)\n",
    "print(\"added set:\",s1)\n",
    "\n",
    "s1.remove(2)\n",
    "print(\"removed set:\",s1)"
   ]
  },
  {
   "cell_type": "code",
   "execution_count": 72,
   "id": "2c1eaa0f",
   "metadata": {},
   "outputs": [
    {
     "name": "stdout",
     "output_type": "stream",
     "text": [
      "{1, 2, 3, 4, 5}\n",
      "{3}\n",
      "{1, 2}\n"
     ]
    }
   ],
   "source": [
    "set_a = {1, 2, 3}\n",
    "set_b = {3, 4, 5}\n",
    "\n",
    "print(set_a.union(set_b))  \n",
    "print(set_a.intersection(set_b))  \n",
    "print(set_a.difference(set_b))  \n"
   ]
  }
 ],
 "metadata": {
  "kernelspec": {
   "display_name": "Python 3 (ipykernel)",
   "language": "python",
   "name": "python3"
  },
  "language_info": {
   "codemirror_mode": {
    "name": "ipython",
    "version": 3
   },
   "file_extension": ".py",
   "mimetype": "text/x-python",
   "name": "python",
   "nbconvert_exporter": "python",
   "pygments_lexer": "ipython3",
   "version": "3.11.4"
  }
 },
 "nbformat": 4,
 "nbformat_minor": 5
}
